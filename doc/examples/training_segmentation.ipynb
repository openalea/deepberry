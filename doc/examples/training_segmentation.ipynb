{
 "cells": [
  {
   "cell_type": "markdown",
   "id": "10c9d1a3",
   "metadata": {},
   "source": [
    "# Demo to train a deep-learning segmentation models, for berry segmentation."
   ]
  },
  {
   "cell_type": "code",
   "execution_count": 1,
   "id": "4f2286b7",
   "metadata": {},
   "outputs": [
    {
     "name": "stdout",
     "output_type": "stream",
     "text": [
      "Segmentation Models: using `keras` framework.\n"
     ]
    }
   ],
   "source": [
    "from keras.models import load_model\n",
    "from openalea.deepberry.training.training_segmentation import load_dataset, segmentation_training\n",
    "\n",
    "from datadir import datadir"
   ]
  },
  {
   "cell_type": "markdown",
   "id": "58ea7147",
   "metadata": {},
   "source": [
    "# 0. Create a training dataset using the generate_training_dataset.ipynb example script. (Or use the dataset in data/training as an example).\n",
    "### The segmentation dataset must be located in a folder with two subfolders (train, valid). Each subfolder contains couples of input (x) and output (y) images: 0x.png, 0y.png, 1x.png, 1y.png, ..."
   ]
  },
  {
   "cell_type": "markdown",
   "id": "d5163f60",
   "metadata": {},
   "source": [
    "# 1. Loading the training and validation subsets"
   ]
  },
  {
   "cell_type": "code",
   "execution_count": 2,
   "id": "02f0a409",
   "metadata": {},
   "outputs": [],
   "source": [
    "path = datadir + '/training/seg_dataset/'\n",
    "x_train, y_train = load_dataset(path + 'train/')\n",
    "x_valid, y_valid = load_dataset(path + 'valid/')"
   ]
  },
  {
   "cell_type": "markdown",
   "id": "23e51a20",
   "metadata": {},
   "source": [
    "# 2. Training"
   ]
  },
  {
   "cell_type": "code",
   "execution_count": 4,
   "id": "0d9022f3",
   "metadata": {},
   "outputs": [
    {
     "name": "stdout",
     "output_type": "stream",
     "text": [
      "Epoch 1/2\n",
      "1/1 [==============================] - ETA: 0s - loss: 0.5748 - dice_coef: 0.4833\n",
      "Epoch 1: val_loss improved from inf to 0.34688, saving model to C:\\Users\\davietbe\\Documents\\develop\\deepberry\\examples\\data\\segmentation_model.h5\n",
      "1/1 [==============================] - 4s 4s/step - loss: 0.5748 - dice_coef: 0.4833 - val_loss: 0.3469 - val_dice_coef: 0.4997\n",
      "Epoch 2/2\n",
      "1/1 [==============================] - ETA: 0s - loss: 0.4463 - dice_coef: 0.5352\n",
      "Epoch 2: val_loss improved from 0.34688 to 0.34677, saving model to C:\\Users\\davietbe\\Documents\\develop\\deepberry\\examples\\data\\segmentation_model.h5\n",
      "1/1 [==============================] - 1s 1s/step - loss: 0.4463 - dice_coef: 0.5352 - val_loss: 0.3468 - val_dice_coef: 0.4998\n"
     ]
    }
   ],
   "source": [
    "segmentation_training(x_train=x_train, y_train=y_train, x_valid=x_valid, y_valid=y_valid, \n",
    "                      epochs=2,  # More epochs would probably be necessary for a real training dataset\n",
    "                      output_path=datadir + '/segmentation_model.h5' # where the trained model will be saved\n",
    "                     )"
   ]
  },
  {
   "cell_type": "code",
   "execution_count": null,
   "id": "eeaa51a3",
   "metadata": {},
   "outputs": [],
   "source": []
  }
 ],
 "metadata": {
  "kernelspec": {
   "display_name": "Python 3 (ipykernel)",
   "language": "python",
   "name": "python3"
  },
  "language_info": {
   "codemirror_mode": {
    "name": "ipython",
    "version": 3
   },
   "file_extension": ".py",
   "mimetype": "text/x-python",
   "name": "python",
   "nbconvert_exporter": "python",
   "pygments_lexer": "ipython3",
   "version": "3.7.16"
  }
 },
 "nbformat": 4,
 "nbformat_minor": 5
}

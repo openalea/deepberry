{
 "cells": [
  {
   "cell_type": "markdown",
   "id": "8cd24873",
   "metadata": {},
   "source": [
    "# Demo to train a yolov4 object-detection model, for berry detection."
   ]
  },
  {
   "cell_type": "code",
   "execution_count": 12,
   "id": "868c12be",
   "metadata": {},
   "outputs": [],
   "source": [
    "import os\n",
    "\n",
    "from datadir import datadir"
   ]
  },
  {
   "cell_type": "markdown",
   "id": "1690a494",
   "metadata": {},
   "source": [
    "# 0. Create a training dataset using the generate_training_dataset.ipynb example script (Or use the dataset in data/training as an example)\n",
    "### The detection dataset must be located in a folder with two subfolders (train, valid). Each subfolder contains couples of input (.png) and output (.txt) files sharing the same name (ex: img0.png and img0.txt)."
   ]
  },
  {
   "cell_type": "markdown",
   "id": "68a18019",
   "metadata": {},
   "source": [
    "# 1. Generates the files which are necessary to train a yolov4 model"
   ]
  },
  {
   "cell_type": "code",
   "execution_count": 2,
   "id": "ae6938e9",
   "metadata": {},
   "outputs": [],
   "source": [
    "output_dir = datadir  # where these files will be saved"
   ]
  },
  {
   "cell_type": "markdown",
   "id": "9fd7697d",
   "metadata": {},
   "source": [
    "## train.txt and valid.txt"
   ]
  },
  {
   "cell_type": "code",
   "execution_count": 6,
   "id": "5402bc81",
   "metadata": {},
   "outputs": [],
   "source": [
    "for dataset in ['train', 'valid']:\n",
    "    with open(output_dir + '/{}.txt'.format(dataset), 'w') as out:\n",
    "      files = [f for f in os.listdir(datadir + '/training/det_dataset/' + dataset) if f[-4:] == '.png']\n",
    "      for f in files:\n",
    "        out.write('{}/{}\\n'.format(dataset, f))"
   ]
  },
  {
   "cell_type": "markdown",
   "id": "02a8f77c",
   "metadata": {},
   "source": [
    "## classes.names"
   ]
  },
  {
   "cell_type": "code",
   "execution_count": 10,
   "id": "15104006",
   "metadata": {},
   "outputs": [],
   "source": [
    "with open(output_dir + '/classes.names', 'w') as out:\n",
    "  out.write('berry') # the class name doesn't matter since there is only one class"
   ]
  },
  {
   "cell_type": "markdown",
   "id": "ff7077ea",
   "metadata": {},
   "source": [
    "## training.data"
   ]
  },
  {
   "cell_type": "code",
   "execution_count": 11,
   "id": "393b41a1",
   "metadata": {},
   "outputs": [],
   "source": [
    "with open(output_dir + '/training.data', 'w') as out:\n",
    "  out.write('classes = 1\\ntrain = train.txt\\nvalid = valid.txt\\nnames = classes.names\\nbackup = backup')"
   ]
  },
  {
   "cell_type": "markdown",
   "id": "aded525c",
   "metadata": {},
   "source": [
    "# 2. Training"
   ]
  },
  {
   "cell_type": "markdown",
   "id": "fbd06b1b",
   "metadata": {},
   "source": [
    "On a linux server with a GPU and darknet installed (https://github.com/AlexeyAB/darknet):\n",
    "\n",
    "1) Create a directory containing:\n",
    "\n",
    "- train.txt file\n",
    "- valid.txt file\n",
    "- classes.names file\n",
    "- training.data file\n",
    "- detection.cfg file (contained in examples/data/model)\n",
    "- the train and valid subfolders (from step 0.)\n",
    "- a folder called \"backup\"\n",
    "    \n",
    "2) Run the following command (filled with the correct directories): \n",
    "\n",
    "    /.../darknet/darknet detector train /.../training.data /.../detection.cfg -map\n",
    "\n",
    "\n",
    "Notes: \n",
    "\n",
    "- training is very slow without a GPU. Instead of using a linux server, this script can be adapted to run on Google Colab (there are many tutorials online, for yolov4 training), wich provides GPU access\n",
    "\n",
    "- source code of darknet/src/detector.c can be modified to change model save frequency and map computation frequency\n",
    "\n",
    "- map (mean average precision) is computed regularly on the validation dataset, weights with the best map are automatically saved as ..._best.weights file in the backup folder"
   ]
  },
  {
   "cell_type": "code",
   "execution_count": null,
   "id": "f574ff61",
   "metadata": {},
   "outputs": [],
   "source": []
  }
 ],
 "metadata": {
  "kernelspec": {
   "display_name": "Python 3 (ipykernel)",
   "language": "python",
   "name": "python3"
  },
  "language_info": {
   "codemirror_mode": {
    "name": "ipython",
    "version": 3
   },
   "file_extension": ".py",
   "mimetype": "text/x-python",
   "name": "python",
   "nbconvert_exporter": "python",
   "pygments_lexer": "ipython3",
   "version": "3.7.16"
  }
 },
 "nbformat": 4,
 "nbformat_minor": 5
}

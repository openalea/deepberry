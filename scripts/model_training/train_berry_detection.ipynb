{
  "cells": [
    {
      "cell_type": "code",
      "execution_count": null,
      "metadata": {
        "id": "n4iRenyV0_QF",
        "colab": {
          "base_uri": "https://localhost:8080/"
        },
        "outputId": "21b44393-eb9b-4158-f7c9-f80ce53543fb"
      },
      "outputs": [
        {
          "output_type": "stream",
          "name": "stdout",
          "text": [
            "Mounted at /content/gdrive\n"
          ]
        }
      ],
      "source": [
        "from google.colab import drive\n",
        "drive.mount('/content/gdrive')\n",
        "!ln -s /content/gdrive/My\\ Drive/ /mydrive"
      ]
    },
    {
      "cell_type": "code",
      "source": [
        "import os"
      ],
      "metadata": {
        "id": "64PL2ipD3hc1"
      },
      "execution_count": null,
      "outputs": []
    },
    {
      "cell_type": "code",
      "execution_count": null,
      "metadata": {
        "colab": {
          "base_uri": "https://localhost:8080/"
        },
        "id": "nELoB2FGTbsk",
        "outputId": "ad893532-183f-4fdb-f2d5-3c13cc47d040"
      },
      "outputs": [
        {
          "output_type": "stream",
          "name": "stdout",
          "text": [
            "Cloning into 'darknet'...\n",
            "remote: Enumerating objects: 15502, done.\u001b[K\n",
            "remote: Total 15502 (delta 0), reused 0 (delta 0), pack-reused 15502\u001b[K\n",
            "Receiving objects: 100% (15502/15502), 14.16 MiB | 20.25 MiB/s, done.\n",
            "Resolving deltas: 100% (10405/10405), done.\n"
          ]
        }
      ],
      "source": [
        "# clone darknet repo\n",
        "!git clone https://github.com/AlexeyAB/darknet"
      ]
    },
    {
      "cell_type": "code",
      "execution_count": null,
      "metadata": {
        "colab": {
          "base_uri": "https://localhost:8080/"
        },
        "id": "gvrf1iP51IK_",
        "outputId": "53fcba8e-4aaa-4033-82a3-bd721401df91"
      },
      "outputs": [
        {
          "output_type": "stream",
          "name": "stdout",
          "text": [
            "/content/darknet\n"
          ]
        }
      ],
      "source": [
        "# change makefile to have GPU and OPENCV enabled\n",
        "%cd darknet\n",
        "!sed -i 's/OPENCV=0/OPENCV=1/' Makefile\n",
        "!sed -i 's/GPU=0/GPU=1/' Makefile\n",
        "!sed -i 's/CUDNN=0/CUDNN=1/' Makefile\n",
        "!sed -i 's/CUDNN_HALF=0/CUDNN_HALF=1/' Makefile"
      ]
    },
    {
      "cell_type": "code",
      "execution_count": null,
      "metadata": {
        "id": "M27tCDbf0dO-"
      },
      "outputs": [],
      "source": [
        "# update the frequency at which model weights are saved, by directly modifying darknet source code. \n",
        "# (could be done manually by selecting and modifying the file on the left window of google colab)\n",
        "with open('src/detector.c', \"r+\") as f:\n",
        "  old = f.read()\n",
        "  selec = '(iteration >= (iter_save + 1000) || iteration % 1000 == 0) && net.max_batches < 10000)'\n",
        "  s1, s2 = old.split(selec)\n",
        "  new = s1 + '(iteration >= (iter_save + 500) || iteration % 500 == 0) && net.max_batches < 1000000)' + s2\n",
        "  f.seek(0) # rewind\n",
        "  f.write(new)"
      ]
    },
    {
      "cell_type": "code",
      "execution_count": null,
      "metadata": {
        "id": "XduWm7P21LTg",
        "colab": {
          "base_uri": "https://localhost:8080/"
        },
        "outputId": "221befa9-2908-4cd4-990b-702e1949dc8c"
      },
      "outputs": [
        {
          "output_type": "stream",
          "name": "stdout",
          "text": [
            "nvcc: NVIDIA (R) Cuda compiler driver\n",
            "Copyright (c) 2005-2021 NVIDIA Corporation\n",
            "Built on Sun_Feb_14_21:12:58_PST_2021\n",
            "Cuda compilation tools, release 11.2, V11.2.152\n",
            "Build cuda_11.2.r11.2/compiler.29618528_0\n"
          ]
        }
      ],
      "source": [
        "# verify CUDA\n",
        "!/usr/local/cuda/bin/nvcc --version"
      ]
    },
    {
      "cell_type": "code",
      "execution_count": null,
      "metadata": {
        "id": "8VJsMIx91NJ_"
      },
      "outputs": [],
      "source": [
        "# make darknet (builds darknet so that you can then use the darknet executable file to run or train object detectors)\n",
        "!make"
      ]
    },
    {
      "cell_type": "code",
      "execution_count": null,
      "metadata": {
        "id": "zlqNeA_fswo5"
      },
      "outputs": [],
      "source": [
        "# copy over both datasets into the root directory of the Colab VM\n",
        "!cp /mydrive/deepberry/train.zip ../\n",
        "!cp /mydrive/deepberry/valid.zip ../"
      ]
    },
    {
      "cell_type": "code",
      "execution_count": null,
      "metadata": {
        "id": "R2KYJShktNg7"
      },
      "outputs": [],
      "source": [
        "# unzip the datasets and their contents so that they are now in /darknet/data/ folder\n",
        "!unzip ../train.zip -d data/\n",
        "!unzip ../valid.zip -d data/"
      ]
    },
    {
      "cell_type": "code",
      "execution_count": null,
      "metadata": {
        "id": "7zGwH7ceE2ZP"
      },
      "outputs": [],
      "source": [
        "# .CFG \n",
        "\n",
        "# upload the custom .cfg back to cloud VM from Google Drive\n",
        "!cp /mydrive/deepberry/detection.cfg ./cfg"
      ]
    },
    {
      "cell_type": "code",
      "execution_count": null,
      "metadata": {
        "id": "_Mjri3CEI-Hu"
      },
      "outputs": [],
      "source": [
        "# create classes.names file\n",
        "with open('/mydrive/deepberry/classes.names', 'w') as out:\n",
        "  out.write('berry') # the class name doesn't matter since there is only one class\n",
        "\n",
        "# load it\n",
        "!cp /mydrive/deepberry/classes.names ./data"
      ]
    },
    {
      "cell_type": "code",
      "source": [
        "# create backup folder (where model weights are saved during training)\n",
        "if not os.path.isdir('/mydrive/deepberry/backup'):\n",
        "  os.mkdir('/mydrive/deepberry/backup')"
      ],
      "metadata": {
        "id": "a-y8lr5q3aMI"
      },
      "execution_count": null,
      "outputs": []
    },
    {
      "cell_type": "code",
      "execution_count": null,
      "metadata": {
        "id": "zf3mYD6JJnoS"
      },
      "outputs": [],
      "source": [
        "# create training.data file\n",
        "with open('/mydrive/deepberry/training.data', 'w') as out:\n",
        "  out.write('classes = 1\\ntrain = data/train.txt\\nvalid = data/valid.txt\\nnames = data/classes.names\\nbackup = /mydrive/deepberry/backup')\n",
        "\n",
        "# load it\n",
        "!cp /mydrive/deepberry/training.data  ./data"
      ]
    },
    {
      "cell_type": "code",
      "execution_count": null,
      "metadata": {
        "id": "LjWaA1UVvSQT"
      },
      "outputs": [],
      "source": [
        "# create train.txt and valid.txt files\n",
        "\n",
        "with open('/mydrive/deepberry/train.txt', 'w') as out:\n",
        "  images = [f for f in os.listdir('data/train') if f[-4:] == '.png']\n",
        "  for f in images:\n",
        "    out.write('data/train/{}\\n'.format(f))\n",
        "\n",
        "with open('/mydrive/deepberry/valid.txt', 'w') as out:\n",
        "  images = [f for f in os.listdir('data/valid') if f[-4:] == '.png']\n",
        "  for f in images:\n",
        "    out.write('data/valid/{}\\n'.format(f))\n",
        "\n",
        "# load it\n",
        "!cp /mydrive/deepberry/train.txt  ./data\n",
        "!cp /mydrive/deepberry/valid.txt  ./data"
      ]
    },
    {
      "cell_type": "code",
      "execution_count": null,
      "metadata": {
        "id": "dzw5wTmv1CLX"
      },
      "outputs": [],
      "source": [
        "# # Train the model (transfer learning with pre-trained weights)\n",
        "# !wget https://github.com/AlexeyAB/darknet/releases/download/darknet_yolo_v4_pre/yolov4-tiny.conv.29\n",
        "# !./darknet detector train data/training.data cfg/yolov4-config-tiny.cfg yolov4-tiny.conv.29 -dont_show -map | tee results.txt"
      ]
    },
    {
      "cell_type": "code",
      "execution_count": null,
      "metadata": {
        "id": "EPWwNtX8xd40"
      },
      "outputs": [],
      "source": [
        "# Train the model from scratch. \n",
        "# Weights will be saved in the backup folder.\n",
        "\n",
        "!./darknet detector train data/training.data cfg/detection.cfg -dont_show -map | tee results.txt"
      ]
    },
    {
      "cell_type": "code",
      "execution_count": null,
      "metadata": {
        "id": "NDhEnKF0QIXP"
      },
      "outputs": [],
      "source": [
        "# Continue training starting from the last weights saved\n",
        "!./darknet detector train data/training.data cfg/detection.cfg /mydrive/deepberry/backup/detection_last.weights -dont_show -map | tee results.txt"
      ]
    }
  ],
  "metadata": {
    "accelerator": "GPU",
    "colab": {
      "provenance": []
    },
    "kernelspec": {
      "display_name": "Python 3",
      "name": "python3"
    },
    "language_info": {
      "name": "python"
    }
  },
  "nbformat": 4,
  "nbformat_minor": 0
}